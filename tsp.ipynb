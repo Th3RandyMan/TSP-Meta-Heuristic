{
 "cells": [
  {
   "cell_type": "markdown",
   "metadata": {},
   "source": [
    "# Traveling Salesman Problem (TSP)"
   ]
  },
  {
   "cell_type": "markdown",
   "metadata": {},
   "source": [
    "### Read in File and Save Weights of all the edges"
   ]
  },
  {
   "cell_type": "code",
   "execution_count": 18,
   "metadata": {},
   "outputs": [
    {
     "name": "stdout",
     "output_type": "stream",
     "text": [
      "['1000_euclidianDistance.txt', '1000_randomDistance.txt']\n",
      "Number of nodes: 1000\n",
      "\n",
      "[[ 0.   26.98 53.74 ... 26.86 44.96 19.49]\n",
      " [26.98  0.   72.27 ... 51.52 64.98 13.02]\n",
      " [53.74 72.27  0.   ... 30.73  9.36 59.29]\n",
      " ...\n",
      " [26.86 51.52 30.73 ...  0.   21.37 40.19]\n",
      " [44.96 64.98  9.36 ... 21.37  0.   52.17]\n",
      " [19.49 13.02 59.29 ... 40.19 52.17  0.  ]]\n"
     ]
    }
   ],
   "source": [
    "import glob\n",
    "import numpy as np\n",
    "\n",
    "# Get path for all text files in current directory\n",
    "text_files = glob.glob('*.txt')\n",
    "print(text_files)\n",
    "\n",
    "with open(text_files[0], 'r') as f:\n",
    "    N = f.readline()    # Number of nodes\n",
    "    print(f'Number of nodes: {N}')\n",
    "    edges = np.zeros((int(N), int(N)))\n",
    "\n",
    "    next(f) # Skip the next line\n",
    "    for line in f:\n",
    "        n1, n2, d = line.split()\n",
    "        edges[int(n1)-1, int(n2)-1] = d\n",
    "        edges[int(n2)-1, int(n1)-1] = d\n",
    "\n",
    "print(edges)"
   ]
  },
  {
   "cell_type": "code",
   "execution_count": null,
   "metadata": {},
   "outputs": [],
   "source": [
    "#Need to do stuff with edges..."
   ]
  }
 ],
 "metadata": {
  "kernelspec": {
   "display_name": "Python 3",
   "language": "python",
   "name": "python3"
  },
  "language_info": {
   "codemirror_mode": {
    "name": "ipython",
    "version": 3
   },
   "file_extension": ".py",
   "mimetype": "text/x-python",
   "name": "python",
   "nbconvert_exporter": "python",
   "pygments_lexer": "ipython3",
   "version": "3.11.8"
  }
 },
 "nbformat": 4,
 "nbformat_minor": 2
}
