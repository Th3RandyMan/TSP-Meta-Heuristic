{
 "cells": [
  {
   "cell_type": "markdown",
   "metadata": {},
   "source": [
    "# Traveling Salesman Problem (TSP)"
   ]
  },
  {
   "cell_type": "markdown",
   "metadata": {},
   "source": [
    "### Read in File and Save Weights of all the edges"
   ]
  },
  {
   "cell_type": "code",
   "execution_count": 3,
   "metadata": {},
   "outputs": [
    {
     "name": "stdout",
     "output_type": "stream",
     "text": [
      "['1000_euclidianDistance.txt', '1000_randomDistance.txt']\n",
      "Number of nodes: 1000\n",
      "\n",
      "[[ 0.   26.98 53.74 ... 26.86 44.96 19.49]\n",
      " [26.98  0.   72.27 ... 51.52 64.98 13.02]\n",
      " [53.74 72.27  0.   ... 30.73  9.36 59.29]\n",
      " ...\n",
      " [26.86 51.52 30.73 ...  0.   21.37 40.19]\n",
      " [44.96 64.98  9.36 ... 21.37  0.   52.17]\n",
      " [19.49 13.02 59.29 ... 40.19 52.17  0.  ]]\n"
     ]
    }
   ],
   "source": [
    "import glob\n",
    "import numpy as np\n",
    "\n",
    "# Get path for all text files in current directory\n",
    "text_files = glob.glob('*.txt')\n",
    "print(text_files)\n",
    "\n",
    "with open(text_files[0], 'r') as f:\n",
    "    N = f.readline()    # Number of nodes\n",
    "    print(f'Number of nodes: {N}')\n",
    "    edges = np.zeros((int(N), int(N)))\n",
    "\n",
    "    next(f) # Skip the next line\n",
    "    for line in f:\n",
    "        n1, n2, d = line.split()\n",
    "        edges[int(n1)-1, int(n2)-1] = d\n",
    "        edges[int(n2)-1, int(n1)-1] = d\n",
    "\n",
    "print(edges)"
   ]
  },
  {
   "cell_type": "code",
   "execution_count": 19,
   "metadata": {},
   "outputs": [
    {
     "ename": "KeyboardInterrupt",
     "evalue": "",
     "output_type": "error",
     "traceback": [
      "\u001b[1;31m---------------------------------------------------------------------------\u001b[0m",
      "\u001b[1;31mKeyboardInterrupt\u001b[0m                         Traceback (most recent call last)",
      "Cell \u001b[1;32mIn[19], line 4\u001b[0m\n\u001b[0;32m      1\u001b[0m \u001b[38;5;28;01mfrom\u001b[39;00m \u001b[38;5;21;01mLin_Kernighan\u001b[39;00m \u001b[38;5;28;01mimport\u001b[39;00m LKAlgorithm\n\u001b[0;32m      3\u001b[0m LK \u001b[38;5;241m=\u001b[39m LKAlgorithm(edges)\n\u001b[1;32m----> 4\u001b[0m tour, dist \u001b[38;5;241m=\u001b[39m \u001b[43mLK\u001b[49m\u001b[38;5;241;43m.\u001b[39;49m\u001b[43moptimize\u001b[49m\u001b[43m(\u001b[49m\u001b[43m)\u001b[49m\n\u001b[0;32m      5\u001b[0m \u001b[38;5;28mprint\u001b[39m(\u001b[38;5;124mf\u001b[39m\u001b[38;5;124m\"\u001b[39m\u001b[38;5;124mBest path has length \u001b[39m\u001b[38;5;132;01m{\u001b[39;00mdist\u001b[38;5;132;01m}\u001b[39;00m\u001b[38;5;124m\"\u001b[39m)\n\u001b[0;32m      6\u001b[0m \u001b[38;5;28mprint\u001b[39m(\u001b[38;5;124mf\u001b[39m\u001b[38;5;124m\"\u001b[39m\u001b[38;5;124mBest path is \u001b[39m\u001b[38;5;132;01m{\u001b[39;00mtour\u001b[38;5;132;01m}\u001b[39;00m\u001b[38;5;124m\"\u001b[39m)\n",
      "File \u001b[1;32mc:\\Users\\randa\\OneDrive - University of California, Davis\\Documents\\Davis\\2024 Winter\\EEC289Q\\TSP-Meta-Heuristic\\Lin_Kernighan.py:43\u001b[0m, in \u001b[0;36mLKAlgorithm.optimize\u001b[1;34m(self)\u001b[0m\n\u001b[0;32m     41\u001b[0m     \u001b[38;5;28;01mreturn\u001b[39;00m \u001b[38;5;28mself\u001b[39m\u001b[38;5;241m.\u001b[39mtours[tour][\u001b[38;5;124m\"\u001b[39m\u001b[38;5;124mtour\u001b[39m\u001b[38;5;124m\"\u001b[39m], \u001b[38;5;28mself\u001b[39m\u001b[38;5;241m.\u001b[39mtours[tour][\u001b[38;5;124m\"\u001b[39m\u001b[38;5;124mtour_length\u001b[39m\u001b[38;5;124m\"\u001b[39m]\n\u001b[0;32m     42\u001b[0m \u001b[38;5;28;01melse\u001b[39;00m:\n\u001b[1;32m---> 43\u001b[0m     \u001b[38;5;28;43mself\u001b[39;49m\u001b[38;5;241;43m.\u001b[39;49m\u001b[43m_optimize\u001b[49m\u001b[43m(\u001b[49m\u001b[43m)\u001b[49m\n\u001b[0;32m     45\u001b[0m \u001b[38;5;28;01mreturn\u001b[39;00m \u001b[38;5;28mself\u001b[39m\u001b[38;5;241m.\u001b[39mtour, \u001b[38;5;28mself\u001b[39m\u001b[38;5;241m.\u001b[39mtour_length\n",
      "File \u001b[1;32mc:\\Users\\randa\\OneDrive - University of California, Davis\\Documents\\Davis\\2024 Winter\\EEC289Q\\TSP-Meta-Heuristic\\Lin_Kernighan.py:63\u001b[0m, in \u001b[0;36mLKAlgorithm._optimize\u001b[1;34m(self)\u001b[0m\n\u001b[0;32m     61\u001b[0m improving \u001b[38;5;241m=\u001b[39m \u001b[38;5;28;01mTrue\u001b[39;00m\n\u001b[0;32m     62\u001b[0m \u001b[38;5;28;01mwhile\u001b[39;00m improving: \u001b[38;5;66;03m# HOW DOES THIS IMPROVE THE TOUR?\u001b[39;00m\n\u001b[1;32m---> 63\u001b[0m     improving \u001b[38;5;241m=\u001b[39m \u001b[38;5;28;43mself\u001b[39;49m\u001b[38;5;241;43m.\u001b[39;49m\u001b[43m_improve\u001b[49m\u001b[43m(\u001b[49m\u001b[43m)\u001b[49m\n\u001b[0;32m     64\u001b[0m     \u001b[38;5;28mself\u001b[39m\u001b[38;5;241m.\u001b[39msolutions\u001b[38;5;241m.\u001b[39madd(\u001b[38;5;28mstr\u001b[39m(\u001b[38;5;28mself\u001b[39m\u001b[38;5;241m.\u001b[39mtour))\n",
      "File \u001b[1;32mc:\\Users\\randa\\OneDrive - University of California, Davis\\Documents\\Davis\\2024 Winter\\EEC289Q\\TSP-Meta-Heuristic\\Lin_Kernighan.py:91\u001b[0m, in \u001b[0;36mLKAlgorithm._improve\u001b[1;34m(self)\u001b[0m\n\u001b[0;32m     88\u001b[0m     \u001b[38;5;28;01mcontinue\u001b[39;00m\n\u001b[0;32m     90\u001b[0m joined_edges \u001b[38;5;241m=\u001b[39m \u001b[38;5;28mset\u001b[39m([\u001b[38;5;28mself\u001b[39m\u001b[38;5;241m.\u001b[39m_pair(neighbor, close_node)])\n\u001b[1;32m---> 91\u001b[0m \u001b[38;5;28;01mif\u001b[39;00m \u001b[38;5;28;43mself\u001b[39;49m\u001b[38;5;241;43m.\u001b[39;49m\u001b[43mremove_edge\u001b[49m\u001b[43m(\u001b[49m\u001b[38;5;28;43mself\u001b[39;49m\u001b[38;5;241;43m.\u001b[39;49m\u001b[43mtour\u001b[49m\u001b[43m,\u001b[49m\u001b[43m \u001b[49m\u001b[43mnode\u001b[49m\u001b[43m,\u001b[49m\u001b[43m \u001b[49m\u001b[43mclose_node\u001b[49m\u001b[43m,\u001b[49m\u001b[43m \u001b[49m\u001b[43mreduced_gain\u001b[49m\u001b[43m,\u001b[49m\u001b[43m \u001b[49m\u001b[43mremoved_edges\u001b[49m\u001b[43m,\u001b[49m\u001b[43m \u001b[49m\u001b[43mjoined_edges\u001b[49m\u001b[43m)\u001b[49m:\n\u001b[0;32m     92\u001b[0m     \u001b[38;5;28;01mreturn\u001b[39;00m \u001b[38;5;28;01mTrue\u001b[39;00m \u001b[38;5;66;03m# Improvement found\u001b[39;00m\n\u001b[0;32m     94\u001b[0m attempts \u001b[38;5;241m-\u001b[39m\u001b[38;5;241m=\u001b[39m \u001b[38;5;241m1\u001b[39m\n",
      "File \u001b[1;32mc:\\Users\\randa\\OneDrive - University of California, Davis\\Documents\\Davis\\2024 Winter\\EEC289Q\\TSP-Meta-Heuristic\\Lin_Kernighan.py:195\u001b[0m, in \u001b[0;36mLKAlgorithm.remove_edge\u001b[1;34m(self, tour, node, close_node, gain, removed_edges, added_edges)\u001b[0m\n\u001b[0;32m    193\u001b[0m             \u001b[38;5;28;01mreturn\u001b[39;00m \u001b[38;5;28;01mTrue\u001b[39;00m\n\u001b[0;32m    194\u001b[0m         \u001b[38;5;28;01melse\u001b[39;00m:\n\u001b[1;32m--> 195\u001b[0m             \u001b[38;5;28;01mreturn\u001b[39;00m \u001b[38;5;28;43mself\u001b[39;49m\u001b[38;5;241;43m.\u001b[39;49m\u001b[43madd_edge\u001b[49m\u001b[43m(\u001b[49m\u001b[43mtour\u001b[49m\u001b[43m,\u001b[49m\u001b[43m \u001b[49m\u001b[43mnode\u001b[49m\u001b[43m,\u001b[49m\u001b[43m \u001b[49m\u001b[43mneighbor\u001b[49m\u001b[43m,\u001b[49m\u001b[43m \u001b[49m\u001b[43mcurrent_gain\u001b[49m\u001b[43m,\u001b[49m\u001b[43m \u001b[49m\u001b[43mremoved\u001b[49m\u001b[43m,\u001b[49m\u001b[43m \u001b[49m\u001b[43madded_edges\u001b[49m\u001b[43m)\u001b[49m\n\u001b[0;32m    197\u001b[0m \u001b[38;5;28;01mreturn\u001b[39;00m \u001b[38;5;28;01mFalse\u001b[39;00m\n",
      "File \u001b[1;32mc:\\Users\\randa\\OneDrive - University of California, Davis\\Documents\\Davis\\2024 Winter\\EEC289Q\\TSP-Meta-Heuristic\\Lin_Kernighan.py:255\u001b[0m, in \u001b[0;36mLKAlgorithm.add_edge\u001b[1;34m(self, tour, node, neighbor, gain, removed_edges, added_edges)\u001b[0m\n\u001b[0;32m    252\u001b[0m     added \u001b[38;5;241m=\u001b[39m deepcopy(added_edges)\n\u001b[0;32m    253\u001b[0m     added\u001b[38;5;241m.\u001b[39madd(edge)\n\u001b[1;32m--> 255\u001b[0m     \u001b[38;5;28;01mif\u001b[39;00m \u001b[38;5;28;43mself\u001b[39;49m\u001b[38;5;241;43m.\u001b[39;49m\u001b[43mremove_edge\u001b[49m\u001b[43m(\u001b[49m\u001b[43mtour\u001b[49m\u001b[43m,\u001b[49m\u001b[43m \u001b[49m\u001b[43mnode\u001b[49m\u001b[43m,\u001b[49m\u001b[43m \u001b[49m\u001b[43mclose_node\u001b[49m\u001b[43m,\u001b[49m\u001b[43m \u001b[49m\u001b[43mreduced_gain\u001b[49m\u001b[43m,\u001b[49m\u001b[43m \u001b[49m\u001b[43mremoved_edges\u001b[49m\u001b[43m,\u001b[49m\u001b[43m \u001b[49m\u001b[43madded\u001b[49m\u001b[43m)\u001b[49m:\n\u001b[0;32m    256\u001b[0m         \u001b[38;5;28;01mreturn\u001b[39;00m \u001b[38;5;28;01mTrue\u001b[39;00m\n\u001b[0;32m    258\u001b[0m \u001b[38;5;28;01mreturn\u001b[39;00m \u001b[38;5;28;01mFalse\u001b[39;00m\n",
      "File \u001b[1;32mc:\\Users\\randa\\OneDrive - University of California, Davis\\Documents\\Davis\\2024 Winter\\EEC289Q\\TSP-Meta-Heuristic\\Lin_Kernighan.py:183\u001b[0m, in \u001b[0;36mLKAlgorithm.remove_edge\u001b[1;34m(self, tour, node, close_node, gain, removed_edges, added_edges)\u001b[0m\n\u001b[0;32m    180\u001b[0m added\u001b[38;5;241m.\u001b[39madd(\u001b[38;5;28mself\u001b[39m\u001b[38;5;241m.\u001b[39m_pair(node, neighbor))\n\u001b[0;32m    182\u001b[0m new_dist \u001b[38;5;241m=\u001b[39m current_gain \u001b[38;5;241m-\u001b[39m \u001b[38;5;28mself\u001b[39m\u001b[38;5;241m.\u001b[39medges[node, neighbor]\n\u001b[1;32m--> 183\u001b[0m valid_tour, new_tour \u001b[38;5;241m=\u001b[39m \u001b[38;5;28;43mself\u001b[39;49m\u001b[38;5;241;43m.\u001b[39;49m\u001b[43mcreate_tour\u001b[49m\u001b[43m(\u001b[49m\u001b[43mremoved\u001b[49m\u001b[43m,\u001b[49m\u001b[43m \u001b[49m\u001b[43madded\u001b[49m\u001b[43m)\u001b[49m\n\u001b[0;32m    184\u001b[0m \u001b[38;5;28;01mif\u001b[39;00m \u001b[38;5;129;01mnot\u001b[39;00m valid_tour \u001b[38;5;129;01mand\u001b[39;00m \u001b[38;5;28mlen\u001b[39m(added) \u001b[38;5;241m>\u001b[39m \u001b[38;5;241m2\u001b[39m:   \u001b[38;5;66;03m# Check if valid tour\u001b[39;00m\n\u001b[0;32m    185\u001b[0m     \u001b[38;5;28;01mcontinue\u001b[39;00m\n",
      "File \u001b[1;32mc:\\Users\\randa\\OneDrive - University of California, Davis\\Documents\\Davis\\2024 Winter\\EEC289Q\\TSP-Meta-Heuristic\\Lin_Kernighan.py:218\u001b[0m, in \u001b[0;36mLKAlgorithm.create_tour\u001b[1;34m(self, removed_edges, added_edges)\u001b[0m\n\u001b[0;32m    216\u001b[0m     node \u001b[38;5;241m=\u001b[39m j\n\u001b[0;32m    217\u001b[0m     \u001b[38;5;28;01mbreak\u001b[39;00m\n\u001b[1;32m--> 218\u001b[0m \u001b[38;5;28;01melif\u001b[39;00m j \u001b[38;5;241m==\u001b[39m node:\n\u001b[0;32m    219\u001b[0m     nodes_visited[node] \u001b[38;5;241m=\u001b[39m i\n\u001b[0;32m    220\u001b[0m     node \u001b[38;5;241m=\u001b[39m i\n",
      "\u001b[1;31mKeyboardInterrupt\u001b[0m: "
     ]
    }
   ],
   "source": [
    "from Lin_Kernighan import LKAlgorithm\n",
    "\n",
    "LK = LKAlgorithm(edges)\n",
    "tour, dist = LK.optimize()\n",
    "print(f\"Best path has length {dist}\")\n",
    "print(f\"Best path is {tour}\")"
   ]
  }
 ],
 "metadata": {
  "kernelspec": {
   "display_name": "Python 3",
   "language": "python",
   "name": "python3"
  },
  "language_info": {
   "codemirror_mode": {
    "name": "ipython",
    "version": 3
   },
   "file_extension": ".py",
   "mimetype": "text/x-python",
   "name": "python",
   "nbconvert_exporter": "python",
   "pygments_lexer": "ipython3",
   "version": "3.11.8"
  }
 },
 "nbformat": 4,
 "nbformat_minor": 2
}
